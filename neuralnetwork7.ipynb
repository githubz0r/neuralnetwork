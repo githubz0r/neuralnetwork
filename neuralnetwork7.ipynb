{
 "cells": [
  {
   "cell_type": "markdown",
   "metadata": {},
   "source": [
    "Load libraries and data."
   ]
  },
  {
   "cell_type": "code",
   "execution_count": 12,
   "metadata": {},
   "outputs": [],
   "source": [
    "import numpy as np\n",
    "import matplotlib.pyplot as plt\n",
    "import functools\n",
    "\n",
    "train=np.loadtxt('sincTrain25.dt')\n",
    "trainx=train[:,0]\n",
    "trainy=train[:,1]\n",
    "valid=np.loadtxt('sincValidate10.dt')\n",
    "valx=valid[:,0]\n",
    "valy=valid[:,1]"
   ]
  },
  {
   "cell_type": "markdown",
   "metadata": {},
   "source": [
    "Let's plot the training data and validation data (they are generated from the function sinc(x)=sin(x)/x)so we have an idea of what it looks like."
   ]
  },
  {
   "cell_type": "code",
   "execution_count": 2,
   "metadata": {},
   "outputs": [
    {
     "data": {
      "image/png": "[encoded data removed]",
      "text/plain": [
       "<Figure size 432x288 with 2 Axes>"
      ]
     },
     "metadata": {},
     "output_type": "display_data"
    }
   ],
   "source": [
    "%matplotlib inline\n",
    "plt.style.use(\"dark_background\")\n",
    "fig, ax = plt.subplots(2)\n",
    "fig.subplots_adjust(hspace=0.7)\n",
    "ax[0].scatter(trainx, trainy, s=2)\n",
    "ax[0].set_title('Training data')\n",
    "ax[0].set_ylabel('Sinc(x)')\n",
    "ax[0].set_xlabel('x')\n",
    "ax[1].scatter(valx, valy, s=2)\n",
    "ax[1].set_title('Validation data')\n",
    "ax[1].set_ylabel('Sinc(x)')\n",
    "ax[1].set_xlabel('x')\n",
    "plt.show()"
   ]
  },
  {
   "cell_type": "markdown",
   "metadata": {},
   "source": [
    "Define neural network function and gradient descent function"
   ]
  },
  {
   "cell_type": "code",
   "execution_count": 4,
   "metadata": {},
   "outputs": [],
   "source": [
    "def neural_network(x, w, activation_function, classify = False, has_ones = False):\n",
    "    w0 = w[0]\n",
    "    w1 = w[1]\n",
    "    if len(x.shape)<1:\n",
    "        x = x.reshape(1,1)\n",
    "    N = x.shape[0]\n",
    "    if not has_ones:\n",
    "        x = np.c_[np.ones(N), x]\n",
    "    a = x@w0 # dimenson is d*M where M is number of columns in w0, i.e. number of neurons\n",
    "    if activation_function == 'relu':\n",
    "        z = relu(a)\n",
    "    elif activation_function == 'softsign':\n",
    "        z = a/(1+np.abs(a))\n",
    "    z = np.c_[np.ones(z.shape[0]), z] # ones for bias\n",
    "    a2 = z@w1\n",
    "    if not classify:\n",
    "        z2 = z@w1\n",
    "    else:\n",
    "        z2 = exp(z)/(exp(z)+1)\n",
    "    return(dict(first_mult = a, first_mult_nonlin = z, second_mult = a2, output = z2))\n",
    "\n",
    "def relu(x):\n",
    "    zeroes = np.zeros(x.shape)\n",
    "    zeroes[x>0] = x[x>0]\n",
    "    return(zeroes)\n",
    "\n",
    "def relu_grad(x):\n",
    "    grad = (x > 0)*1\n",
    "    return(grad)\n",
    "\n",
    "def nn_grad(x, y, a, z, out, w, activation_function):\n",
    "    '''y must be an array of dimension at least 2'''\n",
    "    w_out = w[1]\n",
    "    N = x.shape[0]\n",
    "    delta_outs = out-y # N*1\n",
    "    qq = np.zeros(21)\n",
    "    delta_outs_repeated = np.repeat((out-y), w_out.shape[0], axis=1) # N*(n_hidden+1)\n",
    "    output_grad = np.sum(np.multiply(delta_outs, z), axis=0)/N # gradient of output unit\n",
    "    if len(output_grad.shape)<2:\n",
    "        output_grad = output_grad.reshape(output_grad.shape[0], 1)\n",
    "    if activation_function == 'relu':\n",
    "        hidden_activation_deriv = relu_grad(a)\n",
    "    elif activation_function == 'softsign':\n",
    "        hidden_activation_deriv = 1/((1+np.abs(a))**2)\n",
    "    delta_hidden_sum_parts = delta_outs@w_out.T # this must be a sum with more than 1 output neuron\n",
    "    delta_hidden_sum_parts = delta_hidden_sum_parts[:,1:] # removing bias column\n",
    "    delta_hidden = hidden_activation_deriv*delta_hidden_sum_parts\n",
    "    hidden_grad = 0\n",
    "    for i in range(N):\n",
    "        vector_of_deltas = delta_hidden[i,:]\n",
    "        vector_of_deltas = vector_of_deltas.reshape(a.shape[1],1)\n",
    "        grad_element = x[i,:]*vector_of_deltas\n",
    "        hidden_grad += grad_element/N\n",
    "    return([hidden_grad.T, output_grad])\n",
    "\n",
    "def nn_gradient_descent(x_train, y_train, x_val, y_val, n_hidden, rate, iterations, patience,\n",
    "                       verbose, weights, initialization_factors, activation_function):\n",
    "    if len(y_train.shape)==1:\n",
    "        y_train = y_train.reshape(y_train.shape[0], 1)\n",
    "    if len(y_val.shape)==1:\n",
    "        y_val = y_val.reshape(y_val.shape[0], 1)\n",
    "    if len(x_train.shape)==1:\n",
    "        x_train = x_train.reshape(x_train.shape[0], 1)\n",
    "    K = y_train.shape[1]\n",
    "    D = x_train.shape[1]\n",
    "    N = x_train.shape[0]\n",
    "    x_train = np.c_[np.ones(N), x_train, ]\n",
    "    # initialize weights\n",
    "    if initialization_factors == None:\n",
    "        initialization_factors = [np.sqrt(2/(D+1 + n_hidden)), np.sqrt(2/(n_hidden+1 + K))]\n",
    "    if weights == None:\n",
    "        w_hidden0 = np.random.normal(0, 1, (D+1, n_hidden)) * initialization_factors[0]\n",
    "        w_out0 = np.random.normal(0, 1, (n_hidden+1, K)) * initialization_factors[1]\n",
    "    w_hidden1 = None\n",
    "    w_out1 = None\n",
    "    w_best = None\n",
    "    \n",
    "    patience_counter = patience\n",
    "    train_loss = []\n",
    "    val_loss = []\n",
    "    gradient_norm = []\n",
    "    max_iter = iterations\n",
    "    while iterations > 0 and patience_counter >0:\n",
    "        w=[w_hidden0, w_out0]\n",
    "        nn_outs_train = neural_network(x_train, w, activation_function, has_ones=True)\n",
    "        a = nn_outs_train['first_mult']\n",
    "        z = nn_outs_train['first_mult_nonlin']\n",
    "        out = nn_outs_train['output']\n",
    "        train_error = 0.5*np.sum((y_train - out)**2)/N\n",
    "        if len(out.shape)<2:\n",
    "            out=out.reshape(y_train.shape[0], 1) # reshaping to get broadcasting to work later\n",
    "        train_loss.append(train_error)\n",
    "        delta_outs = (out-y_train) # N*1\n",
    "        grads = nn_grad(x=x_train, y=y_train, a=a, z=z, out=out, w=w, activation_function=activation_function)\n",
    "        hidden_grad = grads[0]\n",
    "        output_grad = grads[1]\n",
    "        w_hidden1 = w_hidden0 - rate*hidden_grad #/N\n",
    "        w_out1 = w_out0 - rate*output_grad #/N\n",
    "        val_out = neural_network(x_val, w, activation_function=activation_function)['output']\n",
    "        val_error = 0.5*np.sum((y_val - val_out)**2)/x_val.shape[0]\n",
    "        iterations -= 1\n",
    "        if verbose: \n",
    "            print('iterations: ', max_iter-iterations)\n",
    "            print('Training loss: {}, Validation loss: {}'.format(train_error, val_error))\n",
    "        if len(val_loss)>1:\n",
    "            if val_error < min(val_loss):\n",
    "                if verbose: \n",
    "                    print('new best w')\n",
    "                w_best = w\n",
    "                patience_counter = patience\n",
    "            elif val_error >= val_loss[-1]:\n",
    "                patience_counter -= 1\n",
    "        val_loss.append(val_error)\n",
    "        w_out0 = w_out1\n",
    "        w_hidden0 = w_hidden1\n",
    "        gradient_norm_i = np.sqrt(np.sum(np.concatenate([hidden_grad.flatten(), output_grad.flatten()])**2))\n",
    "        gradient_norm.append(gradient_norm_i)\n",
    "    if w_best == None:\n",
    "        w_best = [w_hidden0, w_out0]\n",
    "    return(dict(weights=w_best, train_loss=train_loss, val_loss=val_loss, gradient_norm=gradient_norm,\n",
    "               iterations=max_iter-iterations))\n"
   ]
  },
  {
   "cell_type": "markdown",
   "metadata": {},
   "source": [
    "Put the things into a class."
   ]
  },
  {
   "cell_type": "code",
   "execution_count": 5,
   "metadata": {},
   "outputs": [],
   "source": [
    "class NNregressor_onelayer:\n",
    "    def __init__(self, activation_function, weights=None):\n",
    "        self.weights = weights\n",
    "        self.activation_function = activation_function\n",
    "    def estimate_weights(self, trainx, trainy, valx, valy, n_hidden, rate, iterations, patience, verbose,\n",
    "                        weight_initialization_factors):\n",
    "        training_results = nn_gradient_descent(trainx, trainy, valx, valy, n_hidden, \n",
    "                                           rate, iterations, patience, verbose,\n",
    "                                           self.weights, weight_initialization_factors,\n",
    "                                               activation_function = self.activation_function)\n",
    "        self.weights = training_results['weights']\n",
    "        self.training_loss = training_results['train_loss']\n",
    "        self.validation_loss = training_results['val_loss']\n",
    "        self.gradient_norm = training_results['gradient_norm']\n",
    "        self.iterations = training_results['iterations']\n",
    "    def predict(self, x):\n",
    "        predictions = neural_network(x, self.weights, activation_function = self.activation_function)\n",
    "        return(predictions['second_mult'].ravel())"
   ]
  },
  {
   "cell_type": "markdown",
   "metadata": {},
   "source": [
    "First we need to validate the gradient. We make up some random weights and calculate some outputs."
   ]
  },
  {
   "cell_type": "code",
   "execution_count": 6,
   "metadata": {},
   "outputs": [
    {
     "data": {
      "text/plain": [
       "173.37861170911933"
      ]
     },
     "execution_count": 6,
     "metadata": {},
     "output_type": "execute_result"
    }
   ],
   "source": [
    "np.random.seed(84)\n",
    "wtest1=np.random.normal(0,1,(2,20))\n",
    "wtest2=np.random.normal(0,1,(21,1))\n",
    "test_out=neural_network(trainx,[wtest1,wtest2], 'relu')\n",
    "test_a = test_out['first_mult']\n",
    "test_z = test_out['first_mult_nonlin']\n",
    "test_pred = test_out['second_mult']\n",
    "test_error = 0.5*np.sum((test_pred - trainy.reshape(trainy.shape[0], 1))**2)/25\n",
    "test_grad = nn_grad(np.c_[np.ones(25), trainx.reshape(25,1)], trainy.reshape(25,1), \n",
    "                    test_a, test_z, test_pred, [wtest1, wtest2], 'relu')\n",
    "test_error"
   ]
  },
  {
   "cell_type": "code",
   "execution_count": 20,
   "metadata": {},
   "outputs": [],
   "source": [
    "w_flat = np.concatenate([wtest1.flatten(), wtest2.flatten()])"
   ]
  },
  {
   "cell_type": "code",
   "execution_count": 162,
   "metadata": {},
   "outputs": [],
   "source": [
    "from scipy import optimize\n",
    "\n",
    "def rebuild_from_shapes(flat_vector, shapes):\n",
    "    lengths = [0] + [functools.reduce(lambda x,y: x*y, i) for i in shapes]\n",
    "    subs = []\n",
    "    for i in range(len(lengths)-1):\n",
    "        index_1 = lengths[i]\n",
    "        index_2 = lengths[i]+lengths[i+1]\n",
    "        subs.append(flat_vector[index_1:index_2])\n",
    "    for i,_ in enumerate(subs):\n",
    "        subs[i] = subs[i].reshape(shapes[i])\n",
    "    return(subs)\n",
    "\n",
    "def nn_flat(w_flat, shapes, x, y, activation_function='relu', classify=False):\n",
    "    w_subs = rebuild_from_shapes(w_flat, shapes)\n",
    "    outputs = neural_network(x, w_subs, 'relu')['output']\n",
    "    if not classify:\n",
    "        error = 0.5*np.sum((outputs-y.reshape(y.shape[0], 1))**2)/y.shape[0]\n",
    "    else:\n",
    "        error = np.sum(y*np.log(outputs)+(1-y)*np.log(1-outputs))/y.shape[0]\n",
    "    return(error)\n",
    "\n",
    "def gradient_checker(w, x, y, activation_function='relu', classify=False):\n",
    "    if len(x.shape)<1:\n",
    "        x = x.reshape(1,1)\n",
    "    if len(y.shape)==1:\n",
    "        y = y.reshape(y.shape[0], 1)\n",
    "    shapes = [i.shape for i in w]\n",
    "    nn_outs = neural_network(x, w, activation_function)\n",
    "    a = nn_outs['first_mult']\n",
    "    z = nn_outs['first_mult_nonlin']\n",
    "    out = nn_outs['output']\n",
    "    x_ones = np.c_[np.ones(x.shape[0]), x]\n",
    "    true_grad = nn_grad(x_ones, y, a, z, out, w, activation_function)\n",
    "    flat_w = np.concatenate([i.flatten() for i in w])\n",
    "    approx_grad = optimize.approx_fprime(flat_w, nn_flat, np.sqrt(np.finfo(float).eps),\n",
    "                                         shapes, x, y)\n",
    "    approx_grad_split = rebuild_from_shapes(approx_grad, shapes)\n",
    "    return(dict(true_grads = true_grad, approx_grads = approx_grad_split))\n",
    "\n",
    "def gradient_quotients(w, x, y, zero_division = np.sqrt(np.finfo(float).eps), \n",
    "                      activation_function='relu', classify=False):\n",
    "    gradients = gradient_checker(w, x, y, activation_function, classify)\n",
    "    quotients = []\n",
    "    for i,j in zip(gradients['true_grads'], gradients['approx_grads']):\n",
    "        quotients.append((i+zero_division)/(j+zero_division))\n",
    "    return(quotients)\n",
    "    "
   ]
  },
  {
   "cell_type": "code",
   "execution_count": 163,
   "metadata": {},
   "outputs": [
    {
     "name": "stdout",
     "output_type": "stream",
     "text": [
      "173.37861170911933\n",
      "2.220446049250313e-16\n",
      "1.4901161193847656e-08\n"
     ]
    }
   ],
   "source": [
    "print(nn_flat(w_flat, [wtest1.shape, wtest2.shape], trainx, trainy))\n",
    "print(np.finfo(float).eps)\n",
    "print(epsilon)"
   ]
  },
  {
   "cell_type": "code",
   "execution_count": 164,
   "metadata": {},
   "outputs": [],
   "source": [
    "test_grad_check = gradient_checker([wtest1, wtest2], trainx, trainy)"
   ]
  },
  {
   "cell_type": "code",
   "execution_count": 165,
   "metadata": {},
   "outputs": [
    {
     "data": {
      "text/plain": [
       "[array([[0.99999884, 0.99999992, 0.9999999 , 1.00000059, 1.        ,\n",
       "         1.00000003, 1.00000001, 0.99999987, 1.00000005, 0.99998912,\n",
       "         0.99999996, 1.00000002, 1.00000031, 0.99999989, 1.0000001 ,\n",
       "         0.99999832, 0.9999999 , 0.99999944, 1.00000002, 1.00000001],\n",
       "        [1.00000003, 1.00000001, 0.99999999, 0.99999998, 1.        ,\n",
       "         1.00000003, 1.00000006, 1.00000005, 1.00000002, 0.9999996 ,\n",
       "         1.        , 0.99999994, 0.99999997, 0.99999999, 0.99999998,\n",
       "         0.99999992, 0.99999999, 1.00000015, 1.00000005, 0.99999999]]),\n",
       " array([[0.99999994],\n",
       "        [0.99999998],\n",
       "        [1.00000001],\n",
       "        [0.99999998],\n",
       "        [1.00000003],\n",
       "        [1.        ],\n",
       "        [1.00000002],\n",
       "        [0.99999998],\n",
       "        [1.00000005],\n",
       "        [0.99999995],\n",
       "        [1.00000008],\n",
       "        [0.99999999],\n",
       "        [0.99999996],\n",
       "        [0.99999998],\n",
       "        [0.99999998],\n",
       "        [1.        ],\n",
       "        [1.00000003],\n",
       "        [1.        ],\n",
       "        [1.00000005],\n",
       "        [1.00000001],\n",
       "        [1.00000002]])]"
      ]
     },
     "execution_count": 165,
     "metadata": {},
     "output_type": "execute_result"
    }
   ],
   "source": [
    "gradient_quotients([wtest1, wtest2], trainx, trainy)"
   ]
  },
  {
   "cell_type": "markdown",
   "metadata": {},
   "source": [
    "We use a bunch of for loops to check the gradients."
   ]
  },
  {
   "cell_type": "code",
   "execution_count": 8,
   "metadata": {},
   "outputs": [],
   "source": [
    "error_grad_out_all = np.zeros((21,1))\n",
    "error_grad_hidden_all = np.zeros((2, 20))\n",
    "for n in range(25):\n",
    "    eps_val = np.sqrt(np.finfo(float).eps)\n",
    "    error_grad_out = []\n",
    "    for i in range(wtest2.shape[0]):\n",
    "        for j in range(wtest2.shape[1]):\n",
    "            wtest2_2 = np.copy(wtest2)\n",
    "            wtest2_2[i,j] = wtest2_2[i, j] + eps_val\n",
    "            pred_noneps = neural_network(trainx[n], [wtest1, wtest2], 'relu')['second_mult'].reshape(1,1)\n",
    "            pred_eps = neural_network(trainx[n], [wtest1, wtest2_2], 'relu')['second_mult'].reshape(1,1)\n",
    "            error_noneps = 0.5*(pred_noneps-trainy[n])**2\n",
    "            error_eps = 0.5*(pred_eps-trainy[n])**2\n",
    "            error_grad_ij = (error_eps-error_noneps)/eps_val\n",
    "            error_grad_out.append(error_grad_ij)\n",
    "    error_grad_hidden = []\n",
    "    for i in range(wtest1.shape[0]):\n",
    "        for j in range(wtest1.shape[1]):\n",
    "            wtest1_2 = np.copy(wtest1)\n",
    "            wtest1_2[i,j] = wtest1_2[i, j] + eps_val\n",
    "            pred_noneps = neural_network(trainx[n], [wtest1, wtest2], 'relu')['second_mult'].reshape(1,1)\n",
    "            pred_eps = neural_network(trainx[n], [wtest1_2, wtest2], 'relu')['second_mult'].reshape(1,1)\n",
    "            error_noneps = 0.5*(pred_noneps-trainy[n])**2\n",
    "            error_eps = 0.5*(pred_eps-trainy[n])**2\n",
    "            error_grad_ij = (error_eps-error_noneps)/eps_val\n",
    "            error_grad_hidden.append(error_grad_ij)\n",
    "    error_grad_hidden_all+=(np.array(error_grad_hidden).reshape(2,20))/25\n",
    "    error_grad_out_all+=np.array(error_grad_out).reshape(21,1)/25"
   ]
  },
  {
   "cell_type": "code",
   "execution_count": 9,
   "metadata": {},
   "outputs": [
    {
     "data": {
      "text/plain": [
       "array([[1.00000021, 1.00000008, 1.00000001, 1.00000011, 1.        ,\n",
       "        0.9999999 , 0.99999983, 0.99999999, 1.00000001, 1.00000515,\n",
       "        0.99999986, 1.        , 0.99999937, 0.9999999 , 1.00000002,\n",
       "        0.99999977, 0.99999993, 0.99999998, 1.        , 1.00000002],\n",
       "       [0.99999993, 0.99999997, 1.        , 0.99999998, 1.        ,\n",
       "        1.00000001, 1.00000001, 1.00000001, 0.99999999, 0.99999943,\n",
       "        1.00000002, 0.99999998, 1.00000014, 1.00000002, 1.        ,\n",
       "        1.00000006, 0.99999999, 1.00000001, 1.        , 1.        ]])"
      ]
     },
     "execution_count": 9,
     "metadata": {},
     "output_type": "execute_result"
    }
   ],
   "source": [
    "(test_grad[0]+np.finfo(float).eps)/(error_grad_hidden_all+np.finfo(float).eps)"
   ]
  },
  {
   "cell_type": "code",
   "execution_count": 10,
   "metadata": {},
   "outputs": [
    {
     "data": {
      "text/plain": [
       "array([[0.99999999, 1.00000001, 1.00000003, 0.99999999, 1.00000008,\n",
       "        1.        , 1.        , 1.00000001, 1.00000003, 0.99999999,\n",
       "        1.00000002, 1.00000002, 1.00000001, 1.00000001, 1.00000001,\n",
       "        0.99999999, 0.99999997, 1.        , 0.99999999, 1.00000001,\n",
       "        1.        ]])"
      ]
     },
     "execution_count": 10,
     "metadata": {},
     "output_type": "execute_result"
    }
   ],
   "source": [
    "((test_grad[1]+np.finfo(float).eps)/(error_grad_out_all+np.finfo(float).eps)).T"
   ]
  },
  {
   "cell_type": "markdown",
   "metadata": {},
   "source": [
    "Gradient checks out. Let's make a model and train it."
   ]
  },
  {
   "cell_type": "code",
   "execution_count": 63,
   "metadata": {},
   "outputs": [],
   "source": [
    "mlp_sinc = NNregressor_onelayer(activation_function = 'relu')\n",
    "mlp_sinc.estimate_weights(trainx, trainy, valx, valy, n_hidden=100, \n",
    "                              iterations=10000, patience=10, rate=0.05, \n",
    "                              verbose=False, weight_initialization_factors=[0.1, 0.1])"
   ]
  },
  {
   "cell_type": "markdown",
   "metadata": {},
   "source": [
    "We can use some magic to list object variables."
   ]
  },
  {
   "cell_type": "code",
   "execution_count": 64,
   "metadata": {},
   "outputs": [
    {
     "data": {
      "text/plain": [
       "dict_keys(['weights', 'activation_function', 'training_loss', 'validation_loss', 'gradient_norm', 'iterations'])"
      ]
     },
     "execution_count": 64,
     "metadata": {},
     "output_type": "execute_result"
    }
   ],
   "source": [
    "mlp_sinc.__dict__.keys()"
   ]
  },
  {
   "cell_type": "markdown",
   "metadata": {},
   "source": [
    "We plot the gradient norm as a function of training."
   ]
  },
  {
   "cell_type": "code",
   "execution_count": 65,
   "metadata": {},
   "outputs": [],
   "source": [
    "gradient_magnitude = mlp_sinc.gradient_norm\n",
    "iteration_vector = np.arange(mlp_sinc.iterations)"
   ]
  },
  {
   "cell_type": "code",
   "execution_count": 66,
   "metadata": {},
   "outputs": [
    {
     "data": {
      "image/png": "[encoded data removed]",
      "text/plain": [
       "<Figure size 432x288 with 1 Axes>"
      ]
     },
     "metadata": {},
     "output_type": "display_data"
    }
   ],
   "source": [
    "plt.scatter(iteration_vector, gradient_magnitude, s=1)\n",
    "plt.title('Gradient magnitude over training iterations.')\n",
    "plt.ylabel('Gradient norm')\n",
    "plt.xlabel('Iterations')\n",
    "plt.show()"
   ]
  },
  {
   "cell_type": "markdown",
   "metadata": {},
   "source": [
    "Let's now visualize the training and validation loss."
   ]
  },
  {
   "cell_type": "code",
   "execution_count": 67,
   "metadata": {},
   "outputs": [
    {
     "data": {
      "image/png": "[encoded data removed]",
      "text/plain": [
       "<Figure size 432x288 with 1 Axes>"
      ]
     },
     "metadata": {},
     "output_type": "display_data"
    }
   ],
   "source": [
    "plt.close()\n",
    "training_loss = mlp_sinc.training_loss\n",
    "validation_loss = mlp_sinc.validation_loss\n",
    "plt.scatter(iteration_vector, training_loss, s=3, c='lime', label='Train')\n",
    "plt.scatter(iteration_vector, validation_loss, s=3, c='fuchsia', label='Validation')\n",
    "plt.ylabel('Loss')\n",
    "plt.xlabel('Iterations')\n",
    "plt.legend(loc='upper right')\n",
    "plt.show()"
   ]
  },
  {
   "cell_type": "markdown",
   "metadata": {},
   "source": [
    "Let's try to see learnt function."
   ]
  },
  {
   "cell_type": "code",
   "execution_count": 68,
   "metadata": {},
   "outputs": [],
   "source": [
    "x_range = np.arange(-15,15, 0.05)\n",
    "sinc_out = np.sin(x_range)/x_range\n",
    "neuralnetwork_out = mlp_sinc.predict(x_range)"
   ]
  },
  {
   "cell_type": "code",
   "execution_count": 69,
   "metadata": {
    "scrolled": true
   },
   "outputs": [
    {
     "data": {
      "image/png": "[encoded data removed]",
      "text/plain": [
       "<Figure size 432x288 with 1 Axes>"
      ]
     },
     "metadata": {},
     "output_type": "display_data"
    }
   ],
   "source": [
    "plt.scatter(x_range, sinc_out, s=3, c='lime', label='Sinc(x)')\n",
    "plt.scatter(x_range, neuralnetwork_out, s=3, c='fuchsia', label='NeuralNetwork(x)')\n",
    "plt.ylabel('y')\n",
    "plt.xlabel('x')\n",
    "plt.legend(loc='upper right')\n",
    "plt.show()"
   ]
  },
  {
   "cell_type": "markdown",
   "metadata": {},
   "source": [
    "We can try another dataset, for example the 10 dimensional diabetes regression dataset."
   ]
  },
  {
   "cell_type": "code",
   "execution_count": 70,
   "metadata": {},
   "outputs": [],
   "source": [
    "import sklearn.datasets\n",
    "diabetes = sklearn.datasets.load_diabetes()"
   ]
  },
  {
   "cell_type": "code",
   "execution_count": 71,
   "metadata": {},
   "outputs": [
    {
     "name": "stdout",
     "output_type": "stream",
     "text": [
      "(442, 10)\n",
      "(442,)\n"
     ]
    }
   ],
   "source": [
    "print(diabetes.data.shape)\n",
    "print(diabetes.target.shape)"
   ]
  },
  {
   "cell_type": "code",
   "execution_count": 72,
   "metadata": {},
   "outputs": [],
   "source": [
    "def split_data_np(features, target, validation_fraction, test_fraction):\n",
    "    N = features.shape[0]\n",
    "    inds_shuffled = np.random.permutation(np.arange(0, N))\n",
    "    train_thresh = int(np.round(inds_shuffled.shape[0] * (1 - test_fraction - validation_fraction)))\n",
    "    val_thresh = int(np.round(inds_shuffled.shape[0] * (1 - test_fraction)))\n",
    "    train_inds = inds_shuffled[0:train_thresh]\n",
    "    val_inds = inds_shuffled[train_thresh:val_thresh]\n",
    "    test_inds = inds_shuffled[val_thresh:]\n",
    "    \n",
    "    trainX = features[train_inds, :]\n",
    "    trainY = target[train_inds]\n",
    "    \n",
    "    valX = features[val_inds, :]\n",
    "    valY = target[val_inds]\n",
    "    \n",
    "    testX = features[test_inds, :]\n",
    "    testY = target[test_inds]\n",
    "    \n",
    "    return dict(trainx=trainX, trainy=trainY, valx=valX, valy=valY, testx=testX, testy=testY)"
   ]
  },
  {
   "cell_type": "code",
   "execution_count": 73,
   "metadata": {},
   "outputs": [],
   "source": [
    "diabetes_split = split_data_np(diabetes.data, diabetes.target, 0.2, 0.2)"
   ]
  },
  {
   "cell_type": "code",
   "execution_count": 74,
   "metadata": {},
   "outputs": [],
   "source": [
    "diabetes_nn = mlp_sinc = NNregressor_onelayer(activation_function = 'relu')\n",
    "diabetes_nn.estimate_weights(diabetes_split['trainx'], diabetes_split['trainy'], diabetes_split['valx'],\n",
    "                             diabetes_split['valy'], n_hidden=100, \n",
    "                              iterations=10000, patience=10, rate=0.001, \n",
    "                              verbose=False, weight_initialization_factors=None)"
   ]
  },
  {
   "cell_type": "code",
   "execution_count": 75,
   "metadata": {},
   "outputs": [
    {
     "data": {
      "image/png": "[encoded data removed]",
      "text/plain": [
       "<Figure size 432x288 with 1 Axes>"
      ]
     },
     "metadata": {},
     "output_type": "display_data"
    }
   ],
   "source": [
    "plt.scatter(np.arange(diabetes_nn.iterations), diabetes_nn.training_loss, s=3, c='lime', label='Train')\n",
    "plt.scatter(np.arange(diabetes_nn.iterations), diabetes_nn.validation_loss, s=3, c='fuchsia', label='Validation')\n",
    "plt.ylabel('Loss')\n",
    "plt.xlabel('Iterations')\n",
    "plt.legend(loc='upper right')\n",
    "plt.show()"
   ]
  },
  {
   "cell_type": "code",
   "execution_count": 19,
   "metadata": {},
   "outputs": [
    {
     "data": {
      "text/plain": [
       "25"
      ]
     },
     "execution_count": 19,
     "metadata": {},
     "output_type": "execute_result"
    }
   ],
   "source": [
    "functools.reduce(lambda x,y: x*y,trainy.shape)"
   ]
  },
  {
   "cell_type": "code",
   "execution_count": null,
   "metadata": {},
   "outputs": [],
   "source": []
  }
 ],
 "metadata": {
  "kernelspec": {
   "display_name": "Python 3",
   "language": "python",
   "name": "python3"
  },
  "language_info": {
   "codemirror_mode": {
    "name": "ipython",
    "version": 3
   },
   "file_extension": ".py",
   "mimetype": "text/x-python",
   "name": "python",
   "nbconvert_exporter": "python",
   "pygments_lexer": "ipython3",
   "version": "3.7.4"
  }
 },
 "nbformat": 4,
 "nbformat_minor": 2
}
