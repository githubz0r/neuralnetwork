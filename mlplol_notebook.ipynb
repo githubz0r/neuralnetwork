{
 "cells": [
  {
   "cell_type": "code",
   "execution_count": 1,
   "metadata": {},
   "outputs": [],
   "source": [
    "import mlplol\n",
    "import numpy as np\n",
    "import matplotlib.pyplot as plt\n",
    "import sklearn.datasets"
   ]
  },
  {
   "cell_type": "markdown",
   "metadata": {},
   "source": [
    "We will use the diabetes regression dataset from sklearn"
   ]
  },
  {
   "cell_type": "code",
   "execution_count": 2,
   "metadata": {},
   "outputs": [],
   "source": [
    "diabetes = sklearn.datasets.load_diabetes()\n",
    "\n",
    "def split_data_np(features, target, validation_fraction, test_fraction):\n",
    "    N = features.shape[0]\n",
    "    inds_shuffled = np.random.permutation(np.arange(0, N))\n",
    "    train_thresh = int(np.round(inds_shuffled.shape[0] * (1 - test_fraction - validation_fraction)))\n",
    "    val_thresh = int(np.round(inds_shuffled.shape[0] * (1 - test_fraction)))\n",
    "    train_inds = inds_shuffled[0:train_thresh]\n",
    "    val_inds = inds_shuffled[train_thresh:val_thresh]\n",
    "    test_inds = inds_shuffled[val_thresh:]\n",
    "\n",
    "    trainX = features[train_inds, :]\n",
    "    trainY = target[train_inds]\n",
    "\n",
    "    valX = features[val_inds, :]\n",
    "    valY = target[val_inds]\n",
    "\n",
    "    testX = features[test_inds, :]\n",
    "    testY = target[test_inds]\n",
    "\n",
    "    return dict(trainx=trainX, trainy=trainY, valx=valX, valy=valY, testx=testX, testy=testY)\n",
    "\n",
    "\n",
    "diabetes_split = split_data_np(diabetes.data, diabetes.target, 0.2, 0.2)"
   ]
  },
  {
   "cell_type": "code",
   "execution_count": 3,
   "metadata": {},
   "outputs": [
    {
     "data": {
      "text/plain": [
       "(265, 10)"
      ]
     },
     "execution_count": 3,
     "metadata": {},
     "output_type": "execute_result"
    }
   ],
   "source": [
    "# check the shape\n",
    "diabetes_split['trainx'].shape"
   ]
  },
  {
   "cell_type": "markdown",
   "metadata": {},
   "source": [
    "We verify that the gradient is correct."
   ]
  },
  {
   "cell_type": "code",
   "execution_count": 4,
   "metadata": {},
   "outputs": [],
   "source": [
    "# make some test weights\n",
    "wtest1 = np.random.normal(0, 1, (diabetes.data.shape[1]+1, 10))\n",
    "wtest2 = np.random.normal(0, 1, (11, 1))\n",
    "\n",
    "test_gradients = mlplol.gradient_quotients([wtest1, wtest2], diabetes_split['trainx'],\n",
    "                diabetes_split['trainy']) # should be arrays of ones"
   ]
  },
  {
   "cell_type": "code",
   "execution_count": 5,
   "metadata": {},
   "outputs": [
    {
     "name": "stdout",
     "output_type": "stream",
     "text": [
      "[array([[1.        , 1.        , 1.        , 1.        , 1.        ,\n",
      "        0.99999933, 1.        , 1.        , 0.99999984, 1.00000099],\n",
      "       [1.        , 1.        , 1.        , 1.        , 1.        ,\n",
      "        0.99996659, 1.        , 1.        , 0.99999116, 1.00013253],\n",
      "       [1.        , 1.        , 1.        , 1.        , 1.        ,\n",
      "        0.99979657, 1.        , 1.        , 1.00000572, 1.00021311],\n",
      "       [1.        , 1.        , 1.        , 1.        , 1.        ,\n",
      "        0.99993149, 1.        , 1.        , 1.00000172, 1.0000679 ],\n",
      "       [1.        , 1.        , 1.        , 1.        , 1.        ,\n",
      "        0.99999122, 1.        , 1.        , 1.00006986, 1.00004938],\n",
      "       [1.        , 1.        , 1.        , 1.        , 1.        ,\n",
      "        1.00014142, 1.        , 1.        , 0.99998177, 1.00001646],\n",
      "       [1.        , 1.        , 1.        , 1.        , 1.        ,\n",
      "        1.00000935, 1.        , 1.        , 1.00019877, 1.00011735],\n",
      "       [1.        , 1.        , 1.        , 1.        , 1.        ,\n",
      "        1.00001433, 1.        , 1.        , 0.99999428, 0.99993489],\n",
      "       [1.        , 1.        , 1.        , 1.        , 1.        ,\n",
      "        0.99984602, 1.        , 1.        , 0.99999865, 0.99992818],\n",
      "       [1.        , 1.        , 1.        , 1.        , 1.        ,\n",
      "        0.99989742, 1.        , 1.        , 1.00005121, 1.0000753 ],\n",
      "       [1.        , 1.        , 1.        , 1.        , 1.        ,\n",
      "        1.00000763, 1.        , 1.        , 1.00010001, 0.99994273]]), array([[0.99999941],\n",
      "       [1.        ],\n",
      "       [1.        ],\n",
      "       [1.        ],\n",
      "       [1.        ],\n",
      "       [1.        ],\n",
      "       [1.00000042],\n",
      "       [1.        ],\n",
      "       [1.        ],\n",
      "       [1.00000014],\n",
      "       [1.00000005]])]\n"
     ]
    }
   ],
   "source": [
    "print([i for i in test_gradients])"
   ]
  },
  {
   "cell_type": "markdown",
   "metadata": {},
   "source": [
    "We train a model."
   ]
  },
  {
   "cell_type": "code",
   "execution_count": 6,
   "metadata": {},
   "outputs": [],
   "source": [
    "diabetes_nn = mlplol.NNregressor_onelayer(activation_function = 'relu')\n",
    "diabetes_nn.estimate_weights(diabetes_split['trainx'], diabetes_split['trainy'], diabetes_split['valx'],\n",
    "                             diabetes_split['valy'], n_hidden=100,\n",
    "                              iterations=100, patience=10, rate=0.001,\n",
    "                              verbose=False, weight_initialization_factors=None)"
   ]
  },
  {
   "cell_type": "code",
   "execution_count": 7,
   "metadata": {},
   "outputs": [
    {
     "data": {
      "image/png": "[encoded data removed]",
      "text/plain": [
       "<Figure size 432x288 with 1 Axes>"
      ]
     },
     "metadata": {},
     "output_type": "display_data"
    }
   ],
   "source": [
    "plt.style.use(\"dark_background\")\n",
    "plt.scatter(np.arange(diabetes_nn.iterations), diabetes_nn.training_loss, s=3, c='lime', label='Train')\n",
    "plt.scatter(np.arange(diabetes_nn.iterations), diabetes_nn.validation_loss, s=3, c='fuchsia', label='Validation')\n",
    "plt.ylabel('Loss')\n",
    "plt.xlabel('Iterations')\n",
    "plt.legend(loc='upper right')\n",
    "plt.show()"
   ]
  },
  {
   "cell_type": "code",
   "execution_count": null,
   "metadata": {},
   "outputs": [],
   "source": []
  }
 ],
 "metadata": {
  "kernelspec": {
   "display_name": "Python 3",
   "language": "python",
   "name": "python3"
  },
  "language_info": {
   "codemirror_mode": {
    "name": "ipython",
    "version": 3
   },
   "file_extension": ".py",
   "mimetype": "text/x-python",
   "name": "python",
   "nbconvert_exporter": "python",
   "pygments_lexer": "ipython3",
   "version": "3.7.4"
  }
 },
 "nbformat": 4,
 "nbformat_minor": 2
}
