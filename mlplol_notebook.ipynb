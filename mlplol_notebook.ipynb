{
 "cells": [
  {
   "cell_type": "code",
   "execution_count": 1,
   "metadata": {},
   "outputs": [],
   "source": [
    "import mlplol\n",
    "import numpy as np\n",
    "import matplotlib.pyplot as plt\n",
    "import sklearn.datasets"
   ]
  },
  {
   "cell_type": "markdown",
   "metadata": {},
   "source": [
    "We will use the diabetes regression dataset from sklearn"
   ]
  },
  {
   "cell_type": "code",
   "execution_count": 2,
   "metadata": {},
   "outputs": [],
   "source": [
    "diabetes = sklearn.datasets.load_diabetes()\n",
    "\n",
    "def split_data_np(features, target, validation_fraction, test_fraction):\n",
    "    N = features.shape[0]\n",
    "    inds_shuffled = np.random.permutation(np.arange(0, N))\n",
    "    train_thresh = int(np.round(inds_shuffled.shape[0] * (1 - test_fraction - validation_fraction)))\n",
    "    val_thresh = int(np.round(inds_shuffled.shape[0] * (1 - test_fraction)))\n",
    "    train_inds = inds_shuffled[0:train_thresh]\n",
    "    val_inds = inds_shuffled[train_thresh:val_thresh]\n",
    "    test_inds = inds_shuffled[val_thresh:]\n",
    "\n",
    "    trainX = features[train_inds, :]\n",
    "    trainY = target[train_inds]\n",
    "\n",
    "    valX = features[val_inds, :]\n",
    "    valY = target[val_inds]\n",
    "\n",
    "    testX = features[test_inds, :]\n",
    "    testY = target[test_inds]\n",
    "\n",
    "    return dict(trainx=trainX, trainy=trainY, valx=valX, valy=valY, testx=testX, testy=testY)\n",
    "\n",
    "\n",
    "diabetes_split = split_data_np(diabetes.data, diabetes.target, 0.2, 0.2)"
   ]
  },
  {
   "cell_type": "code",
   "execution_count": 4,
   "metadata": {},
   "outputs": [
    {
     "data": {
      "text/plain": [
       "(265, 10)"
      ]
     },
     "execution_count": 4,
     "metadata": {},
     "output_type": "execute_result"
    }
   ],
   "source": [
    "# check the shape\n",
    "diabetes_split['trainx'].shape"
   ]
  },
  {
   "cell_type": "markdown",
   "metadata": {},
   "source": [
    "We verify that the gradient is correct."
   ]
  },
  {
   "cell_type": "code",
   "execution_count": 5,
   "metadata": {},
   "outputs": [],
   "source": [
    "# make some test weights\n",
    "wtest1 = np.random.normal(0, 1, (diabetes.data.shape[1]+1, 10))\n",
    "wtest2 = np.random.normal(0, 1, (11, 1))\n",
    "\n",
    "test_gradients = mlplol.gradient_quotients([wtest1, wtest2], diabetes_split['trainx'],\n",
    "                diabetes_split['trainy']) # should be arrays of ones"
   ]
  },
  {
   "cell_type": "code",
   "execution_count": 6,
   "metadata": {},
   "outputs": [
    {
     "name": "stdout",
     "output_type": "stream",
     "text": [
      "[array([[1.        , 1.        , 1.        , 1.00000015, 1.00000012,\n",
      "        1.00000041, 1.        , 0.99998768, 1.0000007 , 0.9999998 ],\n",
      "       [1.        , 1.        , 1.        , 0.99998485, 0.99991047,\n",
      "        1.00009119, 1.        , 1.00006589, 1.00005716, 0.99993642],\n",
      "       [1.        , 1.        , 1.        , 1.00031376, 1.00930703,\n",
      "        0.99915672, 1.        , 1.00017119, 1.00124835, 1.00308931],\n",
      "       [1.        , 1.        , 1.        , 0.99999458, 1.00000711,\n",
      "        1.00000385, 1.        , 0.99997413, 1.00001054, 0.99997813],\n",
      "       [1.        , 1.        , 1.        , 1.00000418, 0.99998928,\n",
      "        1.00003516, 1.        , 0.99989336, 1.00000733, 0.99999411],\n",
      "       [1.        , 1.        , 1.        , 1.00009434, 0.99995241,\n",
      "        0.99994283, 1.        , 1.00016832, 0.99999195, 0.99998913],\n",
      "       [1.        , 1.        , 1.        , 1.00005445, 1.00002359,\n",
      "        0.99993866, 1.        , 1.00046886, 0.99999554, 1.00002206],\n",
      "       [1.        , 1.        , 1.        , 0.99999248, 1.00005468,\n",
      "        0.99995394, 1.        , 0.99952491, 0.99999843, 1.0000107 ],\n",
      "       [1.        , 1.        , 1.        , 0.99999341, 1.00003058,\n",
      "        0.99999231, 1.        , 0.99990786, 0.99993366, 1.00001263],\n",
      "       [1.        , 1.        , 1.        , 1.00006125, 0.99998873,\n",
      "        0.99998859, 1.        , 1.0000556 , 1.0000021 , 0.99993678],\n",
      "       [1.        , 1.        , 1.        , 1.00002477, 1.00010135,\n",
      "        0.99997121, 1.        , 0.99983794, 0.99997643, 0.99989437]]), array([[0.99999966],\n",
      "       [1.        ],\n",
      "       [1.        ],\n",
      "       [1.        ],\n",
      "       [1.00000013],\n",
      "       [1.00000209],\n",
      "       [1.00000057],\n",
      "       [1.        ],\n",
      "       [0.99996806],\n",
      "       [1.0000001 ],\n",
      "       [1.00000014]])]\n"
     ]
    }
   ],
   "source": [
    "print([i for i in test_gradients])"
   ]
  },
  {
   "cell_type": "markdown",
   "metadata": {},
   "source": [
    "We train a model."
   ]
  },
  {
   "cell_type": "code",
   "execution_count": 8,
   "metadata": {},
   "outputs": [],
   "source": [
    "diabetes_nn = mlp_sinc = mlplol.NNregressor_onelayer(activation_function = 'relu')\n",
    "diabetes_nn.estimate_weights(diabetes_split['trainx'], diabetes_split['trainy'], diabetes_split['valx'],\n",
    "                             diabetes_split['valy'], n_hidden=100,\n",
    "                              iterations=100, patience=10, rate=0.001,\n",
    "                              verbose=False, weight_initialization_factors=None)"
   ]
  },
  {
   "cell_type": "code",
   "execution_count": 9,
   "metadata": {},
   "outputs": [
    {
     "data": {
      "image/png": "[encoded data removed]",
      "text/plain": [
       "<Figure size 432x288 with 1 Axes>"
      ]
     },
     "metadata": {},
     "output_type": "display_data"
    }
   ],
   "source": [
    "plt.style.use(\"dark_background\")\n",
    "plt.scatter(np.arange(diabetes_nn.iterations), diabetes_nn.training_loss, s=3, c='lime', label='Train')\n",
    "plt.scatter(np.arange(diabetes_nn.iterations), diabetes_nn.validation_loss, s=3, c='fuchsia', label='Validation')\n",
    "plt.ylabel('Loss')\n",
    "plt.xlabel('Iterations')\n",
    "plt.legend(loc='upper right')\n",
    "plt.show()"
   ]
  },
  {
   "cell_type": "code",
   "execution_count": null,
   "metadata": {},
   "outputs": [],
   "source": []
  }
 ],
 "metadata": {
  "kernelspec": {
   "display_name": "Python 3",
   "language": "python",
   "name": "python3"
  },
  "language_info": {
   "codemirror_mode": {
    "name": "ipython",
    "version": 3
   },
   "file_extension": ".py",
   "mimetype": "text/x-python",
   "name": "python",
   "nbconvert_exporter": "python",
   "pygments_lexer": "ipython3",
   "version": "3.7.4"
  }
 },
 "nbformat": 4,
 "nbformat_minor": 2
}
